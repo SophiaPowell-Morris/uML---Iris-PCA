{
 "cells": [
  {
   "cell_type": "code",
   "execution_count": 34,
   "id": "fbb42f36",
   "metadata": {},
   "outputs": [
    {
     "data": {
      "text/html": [
       "<div>\n",
       "<style scoped>\n",
       "    .dataframe tbody tr th:only-of-type {\n",
       "        vertical-align: middle;\n",
       "    }\n",
       "\n",
       "    .dataframe tbody tr th {\n",
       "        vertical-align: top;\n",
       "    }\n",
       "\n",
       "    .dataframe thead th {\n",
       "        text-align: right;\n",
       "    }\n",
       "</style>\n",
       "<table border=\"1\" class=\"dataframe\">\n",
       "  <thead>\n",
       "    <tr style=\"text-align: right;\">\n",
       "      <th></th>\n",
       "      <th>SepalLengthCm</th>\n",
       "      <th>SepalWidthCm</th>\n",
       "      <th>PetalLengthCm</th>\n",
       "      <th>PetalWidthCm</th>\n",
       "      <th>Species</th>\n",
       "    </tr>\n",
       "    <tr>\n",
       "      <th>Id</th>\n",
       "      <th></th>\n",
       "      <th></th>\n",
       "      <th></th>\n",
       "      <th></th>\n",
       "      <th></th>\n",
       "    </tr>\n",
       "  </thead>\n",
       "  <tbody>\n",
       "    <tr>\n",
       "      <th>1</th>\n",
       "      <td>5.1</td>\n",
       "      <td>3.5</td>\n",
       "      <td>1.4</td>\n",
       "      <td>0.2</td>\n",
       "      <td>Iris-setosa</td>\n",
       "    </tr>\n",
       "    <tr>\n",
       "      <th>2</th>\n",
       "      <td>4.9</td>\n",
       "      <td>3.0</td>\n",
       "      <td>1.4</td>\n",
       "      <td>0.2</td>\n",
       "      <td>Iris-setosa</td>\n",
       "    </tr>\n",
       "    <tr>\n",
       "      <th>3</th>\n",
       "      <td>4.7</td>\n",
       "      <td>3.2</td>\n",
       "      <td>1.3</td>\n",
       "      <td>0.2</td>\n",
       "      <td>Iris-setosa</td>\n",
       "    </tr>\n",
       "    <tr>\n",
       "      <th>4</th>\n",
       "      <td>4.6</td>\n",
       "      <td>3.1</td>\n",
       "      <td>1.5</td>\n",
       "      <td>0.2</td>\n",
       "      <td>Iris-setosa</td>\n",
       "    </tr>\n",
       "    <tr>\n",
       "      <th>5</th>\n",
       "      <td>5.0</td>\n",
       "      <td>3.6</td>\n",
       "      <td>1.4</td>\n",
       "      <td>0.2</td>\n",
       "      <td>Iris-setosa</td>\n",
       "    </tr>\n",
       "    <tr>\n",
       "      <th>6</th>\n",
       "      <td>5.4</td>\n",
       "      <td>3.9</td>\n",
       "      <td>1.7</td>\n",
       "      <td>0.4</td>\n",
       "      <td>Iris-setosa</td>\n",
       "    </tr>\n",
       "    <tr>\n",
       "      <th>7</th>\n",
       "      <td>4.6</td>\n",
       "      <td>3.4</td>\n",
       "      <td>1.4</td>\n",
       "      <td>0.3</td>\n",
       "      <td>Iris-setosa</td>\n",
       "    </tr>\n",
       "    <tr>\n",
       "      <th>8</th>\n",
       "      <td>5.0</td>\n",
       "      <td>3.4</td>\n",
       "      <td>1.5</td>\n",
       "      <td>0.2</td>\n",
       "      <td>Iris-setosa</td>\n",
       "    </tr>\n",
       "    <tr>\n",
       "      <th>9</th>\n",
       "      <td>4.4</td>\n",
       "      <td>2.9</td>\n",
       "      <td>1.4</td>\n",
       "      <td>0.2</td>\n",
       "      <td>Iris-setosa</td>\n",
       "    </tr>\n",
       "    <tr>\n",
       "      <th>10</th>\n",
       "      <td>4.9</td>\n",
       "      <td>3.1</td>\n",
       "      <td>1.5</td>\n",
       "      <td>0.1</td>\n",
       "      <td>Iris-setosa</td>\n",
       "    </tr>\n",
       "  </tbody>\n",
       "</table>\n",
       "</div>"
      ],
      "text/plain": [
       "    SepalLengthCm  SepalWidthCm  PetalLengthCm  PetalWidthCm      Species\n",
       "Id                                                                       \n",
       "1             5.1           3.5            1.4           0.2  Iris-setosa\n",
       "2             4.9           3.0            1.4           0.2  Iris-setosa\n",
       "3             4.7           3.2            1.3           0.2  Iris-setosa\n",
       "4             4.6           3.1            1.5           0.2  Iris-setosa\n",
       "5             5.0           3.6            1.4           0.2  Iris-setosa\n",
       "6             5.4           3.9            1.7           0.4  Iris-setosa\n",
       "7             4.6           3.4            1.4           0.3  Iris-setosa\n",
       "8             5.0           3.4            1.5           0.2  Iris-setosa\n",
       "9             4.4           2.9            1.4           0.2  Iris-setosa\n",
       "10            4.9           3.1            1.5           0.1  Iris-setosa"
      ]
     },
     "execution_count": 34,
     "metadata": {},
     "output_type": "execute_result"
    }
   ],
   "source": [
    "import numpy as np\n",
    "import pandas as pd\n",
    "import seaborn as sns\n",
    "import matplotlib.pyplot as plt\n",
    "\n",
    "from sklearn.preprocessing import StandardScaler\n",
    "from sklearn.decomposition import PCA\n",
    "\n",
    "\n",
    "# Load data\n",
    "iris_df = pd.read_csv('Iris.csv', index_col=0)\n",
    "iris_df.head(10)"
   ]
  },
  {
   "cell_type": "markdown",
   "id": "62695a68",
   "metadata": {},
   "source": [
    "## Inspect the data\n",
    "### Correlation Matrix"
   ]
  },
  {
   "cell_type": "code",
   "execution_count": 61,
   "id": "d7ed350f",
   "metadata": {},
   "outputs": [
    {
     "data": {
      "text/plain": [
       "Text(0.5, 1.0, 'Correlation of Iris-type Features')"
      ]
     },
     "execution_count": 61,
     "metadata": {},
     "output_type": "execute_result"
    },
    {
     "data": {
      "image/png": "[encoded data removed]",
      "text/plain": [
       "<Figure size 432x288 with 2 Axes>"
      ]
     },
     "metadata": {
      "needs_background": "light"
     },
     "output_type": "display_data"
    }
   ],
   "source": [
    "colormap = sns.diverging_palette(220, 10, as_cmap=True)\n",
    "sns.heatmap(iris_df.corr(), cmap=colormap,linewidth=1, annot=True)\n",
    "plt.title(\"Correlation of Iris-type Features\")"
   ]
  },
  {
   "cell_type": "markdown",
   "id": "d54d367e",
   "metadata": {},
   "source": [
    "* **Very Strong Postive Correlation:**\n",
    "    * Petal Length and Petal Width\n",
    "\n",
    "\n",
    "* **Strong Positive Correlation:**\n",
    "    * Sepal Length vs. Petal Length\n",
    "    * Sepal Length vs. Petal Width\n",
    "\n",
    "\n",
    "* **Weak Negative Correlation:**\n",
    "    * Sepal Length vs. Sepal Width\n",
    "\n",
    "\n",
    "* **Moderate Weak Negative Correlation:**\n",
    "    * Sepal Width vs. Petal Length\n",
    "    * Sepal Width vs. Petal Width"
   ]
  },
  {
   "cell_type": "markdown",
   "id": "aa3312ca",
   "metadata": {},
   "source": [
    "## Apply PCA\n",
    "### Scaling"
   ]
  },
  {
   "cell_type": "code",
   "execution_count": 37,
   "id": "7e548eca",
   "metadata": {},
   "outputs": [],
   "source": [
    "# select and standardize features\n",
    "df = iris_df.drop(columns=['Species'])\n",
    "X = StandardScaler().fit_transform(df.values)"
   ]
  },
  {
   "cell_type": "markdown",
   "id": "66fa76ef",
   "metadata": {},
   "source": [
    "### PCA"
   ]
  },
  {
   "cell_type": "code",
   "execution_count": 38,
   "id": "ba85ab6b",
   "metadata": {},
   "outputs": [
    {
     "data": {
      "text/html": [
       "<div>\n",
       "<style scoped>\n",
       "    .dataframe tbody tr th:only-of-type {\n",
       "        vertical-align: middle;\n",
       "    }\n",
       "\n",
       "    .dataframe tbody tr th {\n",
       "        vertical-align: top;\n",
       "    }\n",
       "\n",
       "    .dataframe thead th {\n",
       "        text-align: right;\n",
       "    }\n",
       "</style>\n",
       "<table border=\"1\" class=\"dataframe\">\n",
       "  <thead>\n",
       "    <tr style=\"text-align: right;\">\n",
       "      <th></th>\n",
       "      <th>0</th>\n",
       "      <th>1</th>\n",
       "      <th>2</th>\n",
       "    </tr>\n",
       "    <tr>\n",
       "      <th>Id</th>\n",
       "      <th></th>\n",
       "      <th></th>\n",
       "      <th></th>\n",
       "    </tr>\n",
       "  </thead>\n",
       "  <tbody>\n",
       "    <tr>\n",
       "      <th>1</th>\n",
       "      <td>-2.264542</td>\n",
       "      <td>0.505704</td>\n",
       "      <td>-0.121943</td>\n",
       "    </tr>\n",
       "    <tr>\n",
       "      <th>2</th>\n",
       "      <td>-2.086426</td>\n",
       "      <td>-0.655405</td>\n",
       "      <td>-0.227251</td>\n",
       "    </tr>\n",
       "    <tr>\n",
       "      <th>3</th>\n",
       "      <td>-2.367950</td>\n",
       "      <td>-0.318477</td>\n",
       "      <td>0.051480</td>\n",
       "    </tr>\n",
       "    <tr>\n",
       "      <th>4</th>\n",
       "      <td>-2.304197</td>\n",
       "      <td>-0.575368</td>\n",
       "      <td>0.098860</td>\n",
       "    </tr>\n",
       "    <tr>\n",
       "      <th>5</th>\n",
       "      <td>-2.388777</td>\n",
       "      <td>0.674767</td>\n",
       "      <td>0.021428</td>\n",
       "    </tr>\n",
       "  </tbody>\n",
       "</table>\n",
       "</div>"
      ],
      "text/plain": [
       "           0         1         2\n",
       "Id                              \n",
       "1  -2.264542  0.505704 -0.121943\n",
       "2  -2.086426 -0.655405 -0.227251\n",
       "3  -2.367950 -0.318477  0.051480\n",
       "4  -2.304197 -0.575368  0.098860\n",
       "5  -2.388777  0.674767  0.021428"
      ]
     },
     "execution_count": 38,
     "metadata": {},
     "output_type": "execute_result"
    }
   ],
   "source": [
    "# choose number of components to be generated\n",
    "n_comps = 3\n",
    "pca = PCA(n_components=n_comps)\n",
    "\n",
    "# obtain components\n",
    "principal_components = pca.fit_transform(X)\n",
    "\n",
    "# transform the components into a pandas data frame\n",
    "pca_df = pd.DataFrame(principal_components, index=iris_df.index)\n",
    "\n",
    "# This is to include the plant id's as the row names in the PC'S\n",
    "pca_df.head()"
   ]
  },
  {
   "cell_type": "markdown",
   "id": "1482f6f4",
   "metadata": {},
   "source": [
    "### PCA Correlation Matrix"
   ]
  },
  {
   "cell_type": "code",
   "execution_count": 51,
   "id": "cd8f80a4",
   "metadata": {},
   "outputs": [
    {
     "data": {
      "text/plain": [
       "<AxesSubplot:>"
      ]
     },
     "execution_count": 51,
     "metadata": {},
     "output_type": "execute_result"
    },
    {
     "data": {
      "image/png": "[encoded data removed]",
      "text/plain": [
       "<Figure size 432x288 with 2 Axes>"
      ]
     },
     "metadata": {
      "needs_background": "light"
     },
     "output_type": "display_data"
    }
   ],
   "source": [
    "sns.heatmap(pca_df.corr(), cmap=colormap,linewidth=1, annot=True)"
   ]
  },
  {
   "cell_type": "markdown",
   "id": "aea9b561",
   "metadata": {},
   "source": [
    "* From the correlation matrix of the PCA dataframe with the reduced numbers of variables, we can see that the principal components selected have pratically 0 correlation to oneanother as desired."
   ]
  },
  {
   "cell_type": "markdown",
   "id": "1550a172",
   "metadata": {},
   "source": [
    "## Interpreting PCA"
   ]
  },
  {
   "cell_type": "code",
   "execution_count": 60,
   "id": "847dd65e",
   "metadata": {
    "scrolled": true
   },
   "outputs": [
    {
     "data": {
      "image/png": "[encoded data removed]",
      "text/plain": [
       "<Figure size 432x288 with 2 Axes>"
      ]
     },
     "metadata": {
      "needs_background": "light"
     },
     "output_type": "display_data"
    },
    {
     "data": {
      "text/plain": [
       "Text(0.5, 1.0, 'Correlation of Iris-type Features')"
      ]
     },
     "execution_count": 60,
     "metadata": {},
     "output_type": "execute_result"
    },
    {
     "data": {
      "image/png": "[encoded data removed]",
      "text/plain": [
       "<Figure size 432x288 with 2 Axes>"
      ]
     },
     "metadata": {
      "needs_background": "light"
     },
     "output_type": "display_data"
    }
   ],
   "source": [
    "components = pd.DataFrame(pca.components_, columns=df.columns, index=range(1, n_comps+1)).transpose()\n",
    "ax = sns.heatmap(components,cmap=colormap,linewidth=1)\n",
    "plt.title(\"Positional Components vs. Iris-type Features \")\n",
    "plt.show()\n",
    "\n",
    "sns.heatmap(iris_df.corr(), cmap=colormap,linewidth=1, annot=True)\n",
    "plt.title(\"Correlation of Iris-type Features\")"
   ]
  },
  {
   "cell_type": "markdown",
   "id": "87d82d7f",
   "metadata": {},
   "source": [
    "From examining the two correlation plots, I think the Petal Length was possibily removed from the dataset as it has the highest correlation values, both postive and negative, in determining the Iris plant type. \n",
    "\n",
    "The next most influential feature would be the Petal Width, which could be Postitional Component 1 which has a strong influence in determine the Iris plants type which can be seen in the transformed PCA correlation plot. \n",
    "\n",
    "Positional Component 2 is possibily Sepal Length which an very strong positive correlation with an Iris plants Sepal Width. As it only has a strong influence on one single variable, this indicates that it possibly is the only characteristic used to determine one of the Iris type plant - possbility Iris-Setosa as from previous analysis this plant type is easiest to classify. Whereas, Iris-Verticolor and Iris-Viriginica are very similar and thus multiple features are needed to distinguish these two Iris plant types from each other.\n",
    "\n",
    "Finally, Positional Component 3 must then be Sepal Width based on this logic which must contribute the least in determining Iris plant types."
   ]
  },
  {
   "cell_type": "code",
   "execution_count": null,
   "id": "a6602d8b",
   "metadata": {},
   "outputs": [],
   "source": []
  }
 ],
 "metadata": {
  "kernelspec": {
   "display_name": "Python 3",
   "language": "python",
   "name": "python3"
  },
  "language_info": {
   "codemirror_mode": {
    "name": "ipython",
    "version": 3
   },
   "file_extension": ".py",
   "mimetype": "text/x-python",
   "name": "python",
   "nbconvert_exporter": "python",
   "pygments_lexer": "ipython3",
   "version": "3.8.8"
  }
 },
 "nbformat": 4,
 "nbformat_minor": 5
}
